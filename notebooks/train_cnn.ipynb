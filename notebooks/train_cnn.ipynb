{
 "cells": [
  {
   "cell_type": "markdown",
   "metadata": {},
   "source": [
    "### Training a CNN from scratch"
   ]
  },
  {
   "cell_type": "markdown",
   "metadata": {},
   "source": [
    "This notebook demonstrates the training routine of a custom CNN model for inaturalist dataset. Configurations need to be set in `src/config.py`"
   ]
  },
  {
   "cell_type": "code",
   "execution_count": null,
   "metadata": {},
   "outputs": [],
   "source": [
    "# Importing librraries\n",
    "import torch\n",
    "import os\n",
    "import lightning as pl\n",
    "from lightning.pytorch.loggers import WandbLogger\n",
    "import wandb\n",
    "import sys\n",
    "sys.path.append(os.path.abspath(\"src\"))\n",
    "from src.dataloader import iNat_dataset\n",
    "from src.models import CNN_light\n",
    "from src.config import *\n",
    "from src.utils import plot_sample_images, visualize_filters"
   ]
  },
  {
   "cell_type": "code",
   "execution_count": null,
   "metadata": {},
   "outputs": [],
   "source": [
    "# Logging in to wandb\n",
    "os.environ['WANDB_API_KEY'] = \"API-KEY\"    # your API-KEY to be entered here\n",
    "wandb.login(key=os.getenv(\"WANDB_API_KEY\"))"
   ]
  },
  {
   "cell_type": "code",
   "execution_count": null,
   "metadata": {},
   "outputs": [],
   "source": [
    "# Getting train, validation, and test dataloaders\n",
    "dataset = iNat_dataset(data_dir=data_dir, augmentation = aug, batch_size=batch_size, NUM_WORKERS=NUM_WORKERS)\n",
    "train_dataloader, val_dataloader, test_dataloader, classes, n_classes = dataset.load_dataset()"
   ]
  },
  {
   "cell_type": "code",
   "execution_count": null,
   "metadata": {},
   "outputs": [],
   "source": [
    "# Model training, evaluation\n",
    "model = CNN_light(optim= optim, filters= filters, kernel = kernel, pool_kernel=pool_kernel, pool_stride=pool_stride, batchnorm=batchnorm, activation=activation, dropout=dropout, ffn_size=ffn_size, n_classses = n_classes, lr=lr)\n",
    "logger= WandbLogger(project= 'CNN_scratch', name = 'best_model', log_model = False)\n",
    "trainer = pl.Trainer(\n",
    "                        devices=1,\n",
    "                        accelerator=\"gpu\",\n",
    "                        precision=\"16-mixed\",\n",
    "                        gradient_clip_val=1.0,\n",
    "                        max_epochs=epochs,\n",
    "                        logger=logger,\n",
    "                        profiler=None,\n",
    "                        \n",
    "                    )\n",
    "\n",
    "trainer.fit(model, train_dataloader, val_dataloader)\n",
    "trainer.test(model, dataloaders=test_dataloader)\n",
    "trainer.save_checkpoint(\"best_model.ckpt\")\n",
    "wandb.finish()\n",
    "\n"
   ]
  },
  {
   "cell_type": "code",
   "execution_count": null,
   "metadata": {},
   "outputs": [],
   "source": [
    "# Plotting sample images\n",
    "plot_sample_images(test_dataloader, model)\n",
    "visualize_filters(test_dataloader, model)\n"
   ]
  }
 ],
 "metadata": {
  "kernelspec": {
   "display_name": "dla2",
   "language": "python",
   "name": "python3"
  },
  "language_info": {
   "codemirror_mode": {
    "name": "ipython",
    "version": 3
   },
   "file_extension": ".py",
   "mimetype": "text/x-python",
   "name": "python",
   "nbconvert_exporter": "python",
   "pygments_lexer": "ipython3",
   "version": "3.10.16"
  }
 },
 "nbformat": 4,
 "nbformat_minor": 2
}
