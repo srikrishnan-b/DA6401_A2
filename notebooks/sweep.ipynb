{
 "cells": [
  {
   "cell_type": "code",
   "execution_count": null,
   "id": "19fb7d85",
   "metadata": {},
   "outputs": [],
   "source": [
    "import os\n",
    "import wandb\n",
    "import sys\n",
    "sys.path.append(os.path.abspath(\"src\"))\n",
    "from src.models import trainCNN\n",
    "from src.config import *\n",
    "from src.sweep_config import *\n"
   ]
  },
  {
   "cell_type": "code",
   "execution_count": null,
   "id": "d5e2c698",
   "metadata": {},
   "outputs": [],
   "source": [
    "os.environ['WANDB_API_KEY'] = \"API-KEY\"    # your API-KEY to be entered here\n",
    "wandb.login(key=os.getenv(\"WANDB_API_KEY\"))"
   ]
  },
  {
   "cell_type": "code",
   "execution_count": null,
   "id": "57cb83f8",
   "metadata": {},
   "outputs": [],
   "source": [
    "sweep_id = wandb.sweep(sweep_config, project=project_name)\n",
    "wandb.agent(sweep_id, function=trainCNN, count=20)"
   ]
  }
 ],
 "metadata": {
  "language_info": {
   "name": "python"
  }
 },
 "nbformat": 4,
 "nbformat_minor": 5
}
