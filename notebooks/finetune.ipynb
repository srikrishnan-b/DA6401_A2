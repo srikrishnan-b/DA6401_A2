{
 "cells": [
  {
   "cell_type": "code",
   "execution_count": null,
   "metadata": {},
   "outputs": [],
   "source": [
    "import torch\n",
    "from torch import nn\n",
    "from torch.utils.data import Subset, DataLoader\n",
    "from sklearn.model_selection import StratifiedShuffleSplit\n",
    "import torchvision\n",
    "import torchvision.transforms.v2 as v2\n",
    "import os\n",
    "import matplotlib.pyplot as plt\n",
    "import numpy as np\n",
    "import lightning as pl\n",
    "from torchmetrics import Accuracy\n",
    "from lightning.pytorch.loggers import WandbLogger\n",
    "from lightning.pytorch import Trainer\n",
    "import wandb\n",
    "import numpy as np\n",
    "import gc\n",
    "import sys\n",
    "sys.path.append(os.path.abspath(\"src\"))\n",
    "from src.dataloader import iNat_dataset\n",
    "from src.config import *\n",
    "from src.models import pretrained_light, Unfreeze_after_epochs\n",
    "\n"
   ]
  },
  {
   "cell_type": "code",
   "execution_count": null,
   "metadata": {},
   "outputs": [],
   "source": [
    "os.environ['WANDB_API_KEY'] = \"API-KEY\"    # your API-KEY to be entered here\n",
    "wandb.login(key=os.getenv(\"WANDB_API_KEY\"))"
   ]
  },
  {
   "cell_type": "code",
   "execution_count": null,
   "metadata": {},
   "outputs": [],
   "source": [
    "# Getting train, validation, and test dataloaders\n",
    "dataset = iNat_dataset(data_dir=data_dir, augmentation = aug, batch_size=batch_size, NUM_WORKERS=NUM_WORKERS)\n",
    "train_dataloader, val_dataloader, test_dataloader, classes, n_classes = dataset.load_dataset()"
   ]
  },
  {
   "cell_type": "code",
   "execution_count": null,
   "metadata": {},
   "outputs": [],
   "source": [
    "# Finetuning the model\n",
    "finetune_model = pretrained_light(optim = optim, n_classes = n_classes, lr = lr)\n",
    "callback = Unfreeze_after_epochs(unfreeze_at_epoch = unfreeze_at_epoch)\n",
    "logger= WandbLogger(project= project_name, name = run_name, log_model = False)\n",
    "trainer = pl.Trainer(\n",
    "                        devices=1,\n",
    "                        accelerator=\"auto\",\n",
    "                        precision=\"16-mixed\",\n",
    "                        gradient_clip_val=1.0,\n",
    "                        max_epochs=epochs,\n",
    "                        logger=logger,\n",
    "                        profiler=None,\n",
    "                        callbacks = [callback]\n",
    "                    )\n",
    "\n",
    "trainer.fit(finetune_model, train_dataloader, val_dataloader)\n",
    "trainer.test(finetune_model, dataloaders=test_dataloader)\n",
    "trainer.save_checkpoint(\"finetuned_model.ckpt\")\n",
    "wandb.finish()"
   ]
  }
 ],
 "metadata": {
  "language_info": {
   "name": "python"
  }
 },
 "nbformat": 4,
 "nbformat_minor": 2
}
