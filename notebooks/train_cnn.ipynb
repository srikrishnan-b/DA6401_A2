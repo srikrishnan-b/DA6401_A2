{
 "cells": [
  {
   "cell_type": "code",
   "execution_count": null,
   "metadata": {},
   "outputs": [
    {
     "ename": "",
     "evalue": "",
     "output_type": "error",
     "traceback": [
      "\u001b[1;31mThe Kernel crashed while executing code in the current cell or a previous cell. \n",
      "\u001b[1;31mPlease review the code in the cell(s) to identify a possible cause of the failure. \n",
      "\u001b[1;31mClick <a href='https://aka.ms/vscodeJupyterKernelCrash'>here</a> for more info. \n",
      "\u001b[1;31mView Jupyter <a href='command:jupyter.viewOutput'>log</a> for further details."
     ]
    }
   ],
   "source": [
    "import torch\n",
    "from torch import nn\n",
    "from torch.utils.data import Subset, DataLoader\n",
    "from sklearn.model_selection import StratifiedShuffleSplit\n",
    "import torchvision\n",
    "import torchvision.transforms.v2 as v2\n",
    "import os\n",
    "import matplotlib.pyplot as plt\n",
    "import numpy as np\n",
    "import lightning as pl\n",
    "from torchmetrics import Accuracy\n",
    "from lightning.pytorch.loggers import WandbLogger\n",
    "from lightning.pytorch import Trainer\n",
    "import wandb\n",
    "import shutil\n",
    "import numpy as np\n",
    "import random\n",
    "import gc\n",
    "import sys\n",
    "sys.path.append(os.path.abspath(\"src\"))\n",
    "from src.dataloader import iNat_dataset\n",
    "from src.models import CNN_light\n",
    "from src.config import *\n"
   ]
  },
  {
   "cell_type": "code",
   "execution_count": null,
   "metadata": {},
   "outputs": [],
   "source": [
    "os.environ['WANDB_API_KEY'] = \"API-KEY\"    # your API-KEY to be entered here\n",
    "wandb.login(key=os.getenv(\"WANDB_API_KEY\"))"
   ]
  },
  {
   "cell_type": "code",
   "execution_count": null,
   "metadata": {},
   "outputs": [],
   "source": [
    "# Getting train, validation, and test dataloaders\n",
    "dataset = iNat_dataset(data_dir=data_dir, augmentation = aug, batch_size=batch_size, NUM_WORKERS=NUM_WORKERS)\n",
    "train_dataloader, val_dataloader, test_dataloader, n_classes = dataset.load_dataset()"
   ]
  },
  {
   "cell_type": "code",
   "execution_count": null,
   "metadata": {},
   "outputs": [],
   "source": [
    "# Model training, evaluation\n",
    "model = CNN_light(optim= optim, filters= filters, kernel = kernel, pool_kernel=pool_kernel, pool_stride=pool_stride, batchnorm=batchnorm, activation=activation, dropout=dropout, ffn_size=ffn_size, n_classses = n_classes, lr=lr)\n",
    "logger= WandbLogger(project= 'CNN_scratch', name = 'best_model', log_model = False)\n",
    "trainer = pl.Trainer(\n",
    "                        devices=1,\n",
    "                        accelerator=\"gpu\",\n",
    "                        precision=\"16-mixed\",\n",
    "                        gradient_clip_val=1.0,\n",
    "                        max_epochs=epochs,\n",
    "                        logger=logger,\n",
    "                        profiler=None,\n",
    "                        \n",
    "                    )\n",
    "\n",
    "trainer.fit(model, train_dataloader, val_dataloader)\n",
    "trainer.test(model, dataloaders=test_dataloader)\n",
    "pred_labels = trainer.predict(model, dataloaders=test_dataloader)\n",
    "\n",
    "wandb.finish()\n",
    "\n"
   ]
  }
 ],
 "metadata": {
  "kernelspec": {
   "display_name": "dla2",
   "language": "python",
   "name": "python3"
  },
  "language_info": {
   "codemirror_mode": {
    "name": "ipython",
    "version": 3
   },
   "file_extension": ".py",
   "mimetype": "text/x-python",
   "name": "python",
   "nbconvert_exporter": "python",
   "pygments_lexer": "ipython3",
   "version": "3.10.16"
  }
 },
 "nbformat": 4,
 "nbformat_minor": 2
}
